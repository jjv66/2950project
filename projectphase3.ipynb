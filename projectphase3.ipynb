{
 "cells": [
  {
   "cell_type": "markdown",
   "metadata": {},
   "source": [
    "### Analysis 1"
   ]
  },
  {
   "cell_type": "markdown",
   "metadata": {},
   "source": [
    "My first analysis will look at the relationship between runtime and IMDb scores (and a separate anlysis that looks at runtime and Rotten Tomatoes scores). This will answer my third research quetion: how does runtime relate to IMDb and Rotten Tomatoes scores? Do audiences and/or critics giver higher scores to long or short films?\n",
    "\n",
    "To perform this analysis, I will use runtime as a predictor and then IMDb scores (and Rotten Tomatoes scores in a separate analysis) as my input in a linear regression. \n",
    "\n",
    "This analysis will help determine how/if runtime affects critics' and audiences' scores of a movie. This is interesting information for individuals in the entertainment industry as well as the streaming space, as they may tailor the films they make or the films they show on their platform based on runtime if audiences/critics show a tendancy to favor a short or long film. "
   ]
  },
  {
   "cell_type": "markdown",
   "metadata": {},
   "source": [
    "### Analysis 2"
   ]
  },
  {
   "cell_type": "markdown",
   "metadata": {},
   "source": [
    "My second analysis will look at the relationship between IMDb scores and Rotten Tomatoes scores. This will answer my first research question: what is the relationship between IMDb scores and Rotten Tomatoes scores for movies on Netflix? Do audiences and/or critics agree on the quality of a movie (do they both give high scores or low scores)?\n",
    "\n",
    "To perform this analysis, I will use IMDb as my input and Rotten Tomatoes as my predictor in a linear regression. This will show if Rotten Tomatoes scores (audience scores) can be predicted from IMDb scores (critics' scores). \n",
    "\n",
    "This analysis will show an interesting relationship (or lack of relationship) between critics' and audiences' scores of a movie. \n"
   ]
  },
  {
   "cell_type": "markdown",
   "metadata": {},
   "source": [
    "### Analysis 3"
   ]
  },
  {
   "cell_type": "markdown",
   "metadata": {},
   "source": [
    "My third analysis will look at how IMDb and Rotten Tomatoes scores differ aross the streaming platforms in this data (Netflix, Hulu, Prime Video, and Disney+). This will answer my fourth research question: how do IMDb and Rotten Tomatoes scores vary by platform? Which platform has the average highest IMDb and Rotten Tomatoes scores for the movies they stream?\n",
    "\n",
    "To perform this analysis, I will look at the mean IMDb and Rotten Tomatoes scores by platform.\n",
    "\n",
    "This analysis will provide insights into which platforms carry the most highly-ranked movies. As consumers of streaming platofrms and the movies on them, this will be interesting information to have to know where to find the \"best\" (meaning highest-scored) movies. \n"
   ]
  },
  {
   "cell_type": "markdown",
   "metadata": {},
   "source": [
    "### Questions for reviewers"
   ]
  },
  {
   "cell_type": "markdown",
   "metadata": {},
   "source": [
    "Is my third analysis worthy of including? I think it would be interesting to show since it is difficult to differntiate among streaming platforms these days, so it might be nice to show which platform has the \"best\" movies."
   ]
  },
  {
   "cell_type": "code",
   "execution_count": null,
   "metadata": {},
   "outputs": [],
   "source": []
  }
 ],
 "metadata": {
  "kernelspec": {
   "display_name": "Python 3",
   "language": "python",
   "name": "python3"
  },
  "language_info": {
   "codemirror_mode": {
    "name": "ipython",
    "version": 3
   },
   "file_extension": ".py",
   "mimetype": "text/x-python",
   "name": "python",
   "nbconvert_exporter": "python",
   "pygments_lexer": "ipython3",
   "version": "3.8.5"
  }
 },
 "nbformat": 4,
 "nbformat_minor": 4
}
